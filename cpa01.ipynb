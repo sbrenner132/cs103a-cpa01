{
 "cells": [
  {
   "cell_type": "markdown",
   "metadata": {},
   "source": [
    "# About the Data\n",
    "\n",
    "## Description\n",
    "\n",
    "This data set is from the [New Zealand Government](https://www.stats.govt.nz/), and it details all electronic card transactions through February 2022.\n",
    "\n",
    "## Where to Find\n",
    "\n",
    "The data, along with other NZ datasets, can be downloaded from https://www.stats.govt.nz/large-datasets/csv-files-for-download/\n",
    "\n",
    "## Questions to Answer\n",
    "\n",
    "Here are some questions from a first glance at this data:\n",
    "\n",
    "1. How much has been spent on each purchase over the liftime of this data?\n",
    "2. What has been the increase in purchase amounts for `ECTA.S19A1` over the lifetime of this data?"
   ]
  },
  {
   "cell_type": "markdown",
   "metadata": {},
   "source": [
    "## Importing the Data"
   ]
  },
  {
   "cell_type": "code",
   "execution_count": null,
   "metadata": {},
   "outputs": [],
   "source": [
    "import pandas as pd\n",
    "df = pd.read_csv('electronic-card-transactions-february-2022-csv-tables.csv')"
   ]
  },
  {
   "cell_type": "markdown",
   "metadata": {},
   "source": [
    "## Describing the Data with Pandas"
   ]
  },
  {
   "cell_type": "code",
   "execution_count": null,
   "metadata": {},
   "outputs": [],
   "source": [
    "df.describe()"
   ]
  },
  {
   "cell_type": "markdown",
   "metadata": {},
   "source": [
    "## Data Analysis\n",
    "\n",
    "Let's first get an array of all the columns and the index array"
   ]
  },
  {
   "cell_type": "code",
   "execution_count": null,
   "metadata": {},
   "outputs": [],
   "source": [
    "cols = df.columns\n",
    "indecies = df.index\n",
    "print('Columns:', cols)\n",
    "print('Indecies: ', indecies)"
   ]
  },
  {
   "cell_type": "markdown",
   "metadata": {},
   "source": [
    "We will now plot some simple portion of the data, specifically the `ECTA.S19A1` series reference over the given time period"
   ]
  },
  {
   "cell_type": "code",
   "execution_count": null,
   "metadata": {},
   "outputs": [],
   "source": [
    "import matplotlib.pyplot as plt\n",
    "ectas19a1 = df[df['Series_reference'] == 'ECTA.S19A1']\n",
    "ectas19a1.plot(x='Period', y='Data_value', kind='scatter', figsize=(10,5))"
   ]
  },
  {
   "cell_type": "code",
   "execution_count": null,
   "metadata": {},
   "outputs": [],
   "source": [
    "piv = df.pivot_table(columns='Series_title_2', values='Data_value')\n",
    "piv.plot(kind='bar', figsize=(20,10))\n",
    "plt.title('Amounts per Type of Electronic Card Transaction')\n",
    "plt.xlabel('Type of Electronic Card Transaction')\n",
    "plt.ylabel('Amount')"
   ]
  },
  {
   "cell_type": "code",
   "execution_count": null,
   "metadata": {},
   "outputs": [],
   "source": [
    "df.groupby('Series_title_2')['Data_value'].sum().plot(kind='bar', figsize=(10,5))\n",
    "plt.title('Amounts per Type of Electronic Card Transaction')\n",
    "plt.xlabel('Type of Electronic Card Transaction')\n",
    "plt.ylabel('Amount')"
   ]
  },
  {
   "cell_type": "markdown",
   "metadata": {},
   "source": [
    "# Discussing the Results\n",
    "\n",
    "In regards to each of the questions asked in the beginning:\n",
    "\n",
    "1. Not all purchase categories have a non-trivial amount to be seen on the graph. However, notably debit and credit stand out as common transaction types, but also core industry transactions, which either have significantly more or just more logged data than transactions in consumables or fuel.\n",
    "2. As expected, the amount in transactions for `ECTA.S19A1` has increased over the span of the lifetime of this data. Its shape, however, is interesting - the last few, more recent, years suggest it may no longer be linear, and may be capping or soon dropping."
   ]
  }
 ],
 "metadata": {
  "interpreter": {
   "hash": "916dbcbb3f70747c44a77c7bcd40155683ae19c65e1c03b4aa3499c5328201f1"
  },
  "kernelspec": {
   "display_name": "Python 3.8.10 64-bit",
   "language": "python",
   "name": "python3"
  },
  "language_info": {
   "codemirror_mode": {
    "name": "ipython",
    "version": 3
   },
   "file_extension": ".py",
   "mimetype": "text/x-python",
   "name": "python",
   "nbconvert_exporter": "python",
   "pygments_lexer": "ipython3",
   "version": "3.7.9"
  },
  "orig_nbformat": 4
 },
 "nbformat": 4,
 "nbformat_minor": 2
}
